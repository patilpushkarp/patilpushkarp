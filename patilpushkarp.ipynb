{
 "cells": [
  {
   "cell_type": "markdown",
   "metadata": {},
   "source": [
    "# Pushkar Patil\n"
   ]
  },
  {
   "cell_type": "markdown",
   "metadata": {},
   "source": [
    "### Hi there 👋\n",
    "\n",
    "\n",
    "- 🔭 I’m currently working on improving my writing and analytic skills\n",
    "\n",
    "\n",
    "- 🌱 I’m currently learning Vue for presenting my work to greater audience\n",
    "\n",
    "\n",
    "- 👯 I’m looking to collaborate on developing algorithms for trading and market research products\n",
    "\n",
    "\n",
    "- I am getting inclined towards Strategic Design and Management for the development of products which communicates as good with humans as it does with the machines\n",
    "\n",
    "\n",
    "- 💬 Ask me about startegy, data mining with python, data engineering using python and general software development life cycle\n",
    "\n",
    "\n",
    "- 📫 How to reach me: Just DM on [LinkedIn](https://www.linkedin.com/in/patilpushkarp/)\n",
    "\n",
    "\n",
    "- ⚡ Fun fact: My spirit animal is : \"CAT\" 😸"
   ]
  }
 ],
 "metadata": {
  "language_info": {
   "name": "python"
  }
 },
 "nbformat": 4,
 "nbformat_minor": 2
}
